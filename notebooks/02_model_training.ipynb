{
 "cells": [
  {
   "cell_type": "markdown",
   "id": "8913004e",
   "metadata": {},
   "source": [
    "# Entraînement baseline (NYC Taxi Trips)"
   ]
  },
  {
   "cell_type": "markdown",
   "id": "1baefc4b",
   "metadata": {},
   "source": [
    "## Setup & Imports"
   ]
  },
  {
   "cell_type": "code",
   "execution_count": null,
   "id": "d8dde622",
   "metadata": {},
   "outputs": [],
   "source": [
    "import os\n",
    "import sys\n",
    "import pandas as pd\n",
    "import numpy as np\n",
    "import matplotlib.pyplot as plt\n",
    "import seaborn as sns\n",
    "from pathlib import Path\n",
    "from datetime import datetime\n",
    "\n",
    "# Ajouter src/ au chemin pour importer nos modules\n",
    "sys.path.append(\"../src\")\n",
    "from data_loader import download_month, load_parquet\n",
    "from preprocessing import preprocess, FEATS_KEEP\n",
    "\n",
    "# Dossier utiles\n",
    "DATA_RAW = Path(\"../data/raw\")\n",
    "DATA_PROC = Path(\"../data/processed\")\n",
    "MODELS_DIR = Path(\"../models/trained_models\")\n",
    "for p in [DATA_RAW, DATA_PROC, MODELS_DIR]:\n",
    "    p.mkdir(parents=True, exist_ok=True)\n",
    "\n",
    "# Colonnes à charger depuis le parquet\n",
    "USE_COLS = [\n",
    "    \"tpep_pickup_datetime\", \"tpep_dropoff_datetime\",\n",
    "    \"passenger_count\", \"trip_distance\",\n",
    "    \"PULocationID\", \"DOLocationID\",\n",
    "    \"RatecodeID\", \"payment_type\",\n",
    "    \"fare_amount\", \"extra\", \"mta_tax\",\n",
    "    \"tip_amount\", \"tolls_amount\", \"improvement_surcharge\",\n",
    "    \"total_amount\", \"congestion_surcharge\", \"airport_fee\"\n",
    "]\n",
    "\n",
    "# Fenêtre temporelle\n",
    "TRAIN_MONTHS = [\"01\", \"02\", \"03\", \"04\"]\n",
    "VAL_MONTHS = [\"05\"]\n",
    "TEST_MONTHS = [\"06\"]\n",
    "YEAR = \"2023\""
   ]
  },
  {
   "cell_type": "markdown",
   "id": "cec6d7f6",
   "metadata": {},
   "source": [
    "## Ingestion des données"
   ]
  },
  {
   "cell_type": "code",
   "execution_count": null,
   "id": "1c324fb4",
   "metadata": {},
   "outputs": [],
   "source": [
    "def load_months(months, year=YEAR):\n",
    "    dfs = []\n",
    "    for m in months:\n",
    "        path = download_month(m, year=year)\n",
    "        df_raw = load_parquet(path, use_cols=USE_COLS)\n",
    "        df_clean = preprocess(df_raw)\n",
    "        df_clean[\"set_month\"] = f\"{year}-{m}\"\n",
    "        dfs.append(df_clean)\n",
    "    return pd.concat(dfs, axis=0, ignore_index=True)\n",
    "\n",
    "# Charger les jeux de données\n",
    "train_df = load_months(TRAIN_MONTHS)\n",
    "val_df = load_months(VAL_MONTHS)\n",
    "test_df = load_months(TEST_MONTHS)\n",
    "\n",
    "train_df.shape, val_df.shape, test_df.shape"
   ]
  },
  {
   "cell_type": "markdown",
   "id": "ed5f434b-5845-4396-9285-9635914c5026",
   "metadata": {},
   "source": [
    "## Séparer Features / Target"
   ]
  },
  {
   "cell_type": "code",
   "execution_count": null,
   "id": "c1977466-1a2d-4bbd-a874-27b7dfb3ee1a",
   "metadata": {},
   "outputs": [],
   "source": [
    "TARGET = \"trip_duration_minutes\"\n",
    "\n",
    "# Features pour la baseline\n",
    "NUM_FEATS = [\"trip_distance\", \"passenger_count\", \"pickup_hour\", \"pickup_dow\", \"is_weekend\"]\n",
    "CAT_FEATS = [\"RatecodeID\", \"payment_type\"]\n",
    "FEATS = NUM_FEATS + CAT_FEATS\n",
    "\n",
    "# Split\n",
    "X_train = train_df[FEATS].copy()\n",
    "y_train = train_df[TARGET].copy()\n",
    "\n",
    "X_val = val_df[FEATS].copy()\n",
    "y_val = val_df[TARGET].copy()\n",
    "\n",
    "X_test = test_df[FEATS].copy()\n",
    "y_test = test_df[TARGET].copy()\n",
    "\n",
    "X_train.head()"
   ]
  },
  {
   "cell_type": "markdown",
   "id": "ead03f26-41a7-4466-abd0-4ff7d1ab0b2b",
   "metadata": {},
   "source": [
    "## Préprocesseur sklearn"
   ]
  },
  {
   "cell_type": "code",
   "execution_count": null,
   "id": "2ad743d7-bf18-456c-88e5-3943c833d624",
   "metadata": {},
   "outputs": [],
   "source": [
    "from sklearn.compose import ColumnTransformer\n",
    "from sklearn.preprocessing import OneHotEncoder, StandardScaler\n",
    "\n",
    "# Encodage des variables catégorielles + normalisation des numériques\n",
    "preprocessor = ColumnTransformer(\n",
    "    transformers=[\n",
    "        (\"num\", StandardScaler(), NUM_FEATS),\n",
    "        (\"cat\", OneHotEncoder(handle_unknown=\"ignore\", sparse_output=True), CAT_FEATS),\n",
    "    ],\n",
    "    remainder=\"drop\"\n",
    ")\n",
    "preprocessor"
   ]
  },
  {
   "cell_type": "markdown",
   "id": "a7258335-79af-4b7a-9d69-68ad7ce45294",
   "metadata": {},
   "source": [
    "## Modèles Baseline"
   ]
  },
  {
   "cell_type": "code",
   "execution_count": null,
   "id": "0f72a2cb-fd6e-4417-b9eb-fde8e44cb33c",
   "metadata": {},
   "outputs": [],
   "source": [
    "from sklearn.pipeline import Pipeline\n",
    "from sklearn.linear_model import LinearRegression\n",
    "from sklearn.ensemble import HistGradientBoostingRegressor\n",
    "from sklearn.metrics import mean_absolute_error, mean_squared_error, r2_score\n",
    "import math\n",
    "\n",
    "def evaluate(model, X_tr, y_tr, X_v, y_v):\n",
    "    pred_tr = model.predict(X_tr)\n",
    "    pred_v = model.predict(X_v)\n",
    "    metrics = {\n",
    "        \"train_mae\": mean_absolute_error(y_tr, pred_tr),\n",
    "        \"train_rmse\": math.sqrt(mean_squared_error(y_tr, pred_tr)),\n",
    "        \"train_r2\": r2_score(y_tr, pred_tr),\n",
    "        \"val_mae\": mean_absolute_error(y_v, pred_v),\n",
    "        \"val_rmse\": math.sqrt(mean_squared_error(y_v, pred_v)),\n",
    "        \"val_r2\": r2_score(y_v, pred_v),\n",
    "    }\n",
    "    return metrics\n",
    "\n",
    "# Modèle 1 - Linear Regression\n",
    "linreg = Pipeline ([\n",
    "    (\"prep\", preprocessor),\n",
    "    (\"model\", LinearRegression())\n",
    "])\n",
    "\n",
    "# Modèle 2 - HistGradientBoosting (souvent meilleur)\n",
    "hgb = Pipeline([\n",
    "    (\"prep\", preprocessor),\n",
    "    (\"model\", HistGradientBoostingRegressor(\n",
    "        max_depth=None, learning_rate=0.1, max_iter=300, random_state=42\n",
    "    ))\n",
    "])\n",
    "\n",
    "models = {\"linreg\": linreg, \"hgb\": hgb}\n",
    "models"
   ]
  },
  {
   "cell_type": "markdown",
   "id": "1cba0328-9eba-496e-aa7e-6dc6cb68d52d",
   "metadata": {},
   "source": [
    "## Entraînement + MLflow"
   ]
  },
  {
   "cell_type": "code",
   "execution_count": null,
   "id": "3c74af41-c75e-414d-994c-068e1abdd756",
   "metadata": {},
   "outputs": [],
   "source": [
    "import mlflow\n",
    "import mlflow.sklearn\n",
    "\n",
    "mlflow.set_tracking_uri(\"file:../mlruns\")\n",
    "mlflow.set_experiment(\"baseline-training\")\n",
    "\n",
    "results = {}\n",
    "\n",
    "for name, pipe in models.items():\n",
    "    with mlflow.start_run(run_name=name):\n",
    "        mlflow.log_param(\"year\", YEAR)\n",
    "        mlflow.log_param(\"train_months\", \",\".join(TRAIN_MONTHS))\n",
    "        mlflow.log_param(\"val_months\", \",\".join(VAL_MONTHS))\n",
    "        mlflow.log_param(\"features_num\", NUM_FEATS)\n",
    "        mlflow.log_param(\"features_cat\", CAT_FEATS)\n",
    "        mlflow.log_param(\"model_name\", name)\n",
    "\n",
    "        # Entraînement\n",
    "        pipe.fit(X_train, y_train)\n",
    "\n",
    "        # Évaluation\n",
    "        metrics = evaluate(pipe, X_train, y_train, X_val, y_val)\n",
    "        for k, v in metrics.items():\n",
    "            mlflow.log_metrics(k, float(v))\n",
    "        results[name] = metrics\n",
    "\n",
    "        # Sauvegarde du modèle dans MLflow\n",
    "        mlflow.sklearn.log_model(pipe, artifact_path=\"model\")\n",
    "\n",
    "results"
   ]
  },
  {
   "cell_type": "code",
   "execution_count": null,
   "id": "ebb88edf-a748-46ff-a36b-db51ebfacb8b",
   "metadata": {},
   "outputs": [],
   "source": []
  }
 ],
 "metadata": {
  "kernelspec": {
   "display_name": "mlops_taxi",
   "language": "python",
   "name": "mlops_taxi"
  },
  "language_info": {
   "codemirror_mode": {
    "name": "ipython",
    "version": 3
   },
   "file_extension": ".py",
   "mimetype": "text/x-python",
   "name": "python",
   "nbconvert_exporter": "python",
   "pygments_lexer": "ipython3",
   "version": "3.10.12"
  }
 },
 "nbformat": 4,
 "nbformat_minor": 5
}
