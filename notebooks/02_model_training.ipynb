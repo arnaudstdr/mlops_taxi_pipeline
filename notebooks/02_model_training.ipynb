{
 "cells": [
  {
   "cell_type": "markdown",
   "id": "8913004e",
   "metadata": {},
   "source": [
    "# Entraînement baseline (NYC Taxi Trips)"
   ]
  },
  {
   "cell_type": "markdown",
   "id": "1baefc4b",
   "metadata": {},
   "source": [
    "## Setup & Imports"
   ]
  },
  {
   "cell_type": "code",
   "execution_count": 1,
   "id": "d8dde622",
   "metadata": {},
   "outputs": [],
   "source": [
    "import os\n",
    "import sys\n",
    "import pandas as pd\n",
    "import numpy as np\n",
    "import matplotlib.pyplot as plt\n",
    "import seaborn as sns\n",
    "from pathlib import Path\n",
    "from datetime import datetime\n",
    "\n",
    "# Ajouter src/ au chemin pour importer nos modules\n",
    "sys.path.append(\"../src\")\n",
    "from data_loader import download_month, load_parquet\n",
    "from preprocessing import preprocess, FEATS_KEEP\n",
    "\n",
    "# Dossier utiles\n",
    "DATA_RAW = Path(\"../data/raw\")\n",
    "DATA_PROC = Path(\"../data/processed\")\n",
    "MODELS_DIR = Path(\"../models/trained_models\")\n",
    "for p in [DATA_RAW, DATA_PROC, MODELS_DIR]:\n",
    "    p.mkdir(parents=True, exist_ok=True)\n",
    "\n",
    "# Colonnes à charger depuis le parquet\n",
    "USE_COLS = [\n",
    "    \"tpep_pickup_datetime\", \"tpep_dropoff_datetime\",\n",
    "    \"passenger_count\", \"trip_distance\",\n",
    "    \"PULocationID\", \"DOLocationID\",\n",
    "    \"RatecodeID\", \"payment_type\",\n",
    "    \"fare_amount\", \"extra\", \"mta_tax\",\n",
    "    \"tip_amount\", \"tolls_amount\", \"improvement_surcharge\",\n",
    "    \"total_amount\", \"congestion_surcharge\", \"airport_fee\"\n",
    "]\n",
    "\n",
    "# Fenêtre temporelle\n",
    "TRAIN_MONTHS = [\"01\", \"02\", \"03\", \"04\"]\n",
    "VAL_MONTHS = [\"05\"]\n",
    "TEST_MONTHS = [\"06\"]\n",
    "YEAR = \"2023\""
   ]
  },
  {
   "cell_type": "markdown",
   "id": "cec6d7f6",
   "metadata": {},
   "source": [
    "## Ingestion des données"
   ]
  },
  {
   "cell_type": "code",
   "execution_count": null,
   "id": "1c324fb4",
   "metadata": {},
   "outputs": [],
   "source": [
    "def load_months(months, year=YEAR):\n",
    "    dfs = []\n",
    "    for m in months:\n",
    "        path = download_month(m, year=year)\n",
    "        df_raw = load_parquet(path, use_cols=USE_COLS)\n",
    "        df_clean = preprocess(df_raw)\n",
    "        df_clean[\"set_month\"] = f\"{year}-{m}\"\n",
    "        dfs.append(df_clean)\n",
    "    return pd.concat(dfs, axis=0, ignore_index=True)\n",
    "\n",
    "# Charger les jeux de données\n",
    "train_df = load_months(TRAIN_MONTHS)\n",
    "val_df = load_months(VAL_MONTHS)\n",
    "test_df = load_months(TEST_MONTHS)\n",
    "\n",
    "train_df.shape, val_df.shape, test_df.shape"
   ]
  },
  {
   "cell_type": "code",
   "execution_count": null,
   "id": "bb6aad10",
   "metadata": {},
   "outputs": [],
   "source": []
  }
 ],
 "metadata": {
  "kernelspec": {
   "display_name": "venv_gpu (3.10.12)",
   "language": "python",
   "name": "python3"
  },
  "language_info": {
   "codemirror_mode": {
    "name": "ipython",
    "version": 3
   },
   "file_extension": ".py",
   "mimetype": "text/x-python",
   "name": "python",
   "nbconvert_exporter": "python",
   "pygments_lexer": "ipython3",
   "version": "3.10.12"
  }
 },
 "nbformat": 4,
 "nbformat_minor": 5
}
