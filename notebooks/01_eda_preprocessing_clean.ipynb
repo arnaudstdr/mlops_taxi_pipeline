{
 "cells": [
  {
   "cell_type": "markdown",
   "id": "9d458779",
   "metadata": {},
   "source": [
    "# 01 — EDA & Préprocessing (NYC Taxi Trips)\n",
    "\n",
    "> Notebook propre et réutilisable. Les traitements sont déportés dans `src/`.\n",
    "> Ce notebook se contente d'orchestrer et de visualiser."
   ]
  },
  {
   "cell_type": "markdown",
   "id": "7d1027fa",
   "metadata": {},
   "source": [
    "## Cellule A — Imports & constantes"
   ]
  },
  {
   "cell_type": "code",
   "execution_count": 5,
   "id": "f042b10c",
   "metadata": {},
   "outputs": [],
   "source": [
    "import os\n",
    "import sys\n",
    "import pandas as pd\n",
    "import matplotlib.pyplot as plt\n",
    "import seaborn as sns\n",
    "from datetime import datetime\n",
    "\n",
    "# Affichage\n",
    "pd.set_option(\"display.max_columns\", None)\n",
    "pd.set_option(\"display.float_format\", lambda x: f\"{x:.2f}\")\n",
    "\n",
    "# Dossiers\n",
    "RAW_DIR = \"../data/raw\"\n",
    "PROC_DIR = \"../data/processed\"\n",
    "os.makedirs(RAW_DIR, exist_ok=True)\n",
    "os.makedirs(PROC_DIR, exist_ok=True)\n",
    "\n",
    "# Paramètres dataset (mois de référence pour l’EDA)\n",
    "DS_MONTH = \"2023-01\"\n",
    "URL = f\"https://d37ci6vzurychx.cloudfront.net/trip-data/yellow_tripdata_{DS_MONTH}.parquet\"\n",
    "RAW_PATH = f\"{RAW_DIR}/yellow_tripdata_{DS_MONTH}.parquet\"\n",
    "\n",
    "# Colonnes utiles\n",
    "USE_COLS = [\n",
    "    \"tpep_pickup_datetime\", \"tpep_dropoff_datetime\",\n",
    "    \"passenger_count\", \"trip_distance\",\n",
    "    \"PULocationID\", \"DOLocationID\",\n",
    "    \"RatecodeID\", \"payment_type\",\n",
    "    \"fare_amount\", \"extra\", \"mta_tax\",\n",
    "    \"tip_amount\", \"tolls_amount\", \"improvement_surcharge\",\n",
    "    \"total_amount\", \"congestion_surcharge\", \"airport_fee\"\n",
    "]\n",
    "\n",
    "# Rendre `src/` importable\n",
    "sys.path.append(\"../src\")"
   ]
  },
  {
   "cell_type": "markdown",
   "id": "c4b3157b",
   "metadata": {},
   "source": [
    "## Cellule B — Téléchargement sécurisé (idempotent)"
   ]
  },
  {
   "cell_type": "code",
   "execution_count": 6,
   "id": "28e33f24",
   "metadata": {},
   "outputs": [
    {
     "name": "stdout",
     "output_type": "stream",
     "text": [
      "Déjà présent: ../data/raw/yellow_tripdata_2023-01.parquet\n"
     ]
    }
   ],
   "source": [
    "import urllib.request\n",
    "\n",
    "if not os.path.exists(RAW_PATH):\n",
    "    print(\"Téléchargement du dataset…\")\n",
    "    urllib.request.urlretrieve(URL, RAW_PATH)\n",
    "else:\n",
    "    print(\"Déjà présent:\", RAW_PATH)"
   ]
  },
  {
   "cell_type": "markdown",
   "id": "75f9eb23",
   "metadata": {},
   "source": [
    "## Cellule C — Chargement & préprocessing via `src/`"
   ]
  },
  {
   "cell_type": "code",
   "execution_count": null,
   "id": "0ad7b4e3",
   "metadata": {},
   "outputs": [],
   "source": [
    "from data_loader import load_parquet\n",
    "from preprocessing import preprocess\n",
    "\n",
    "df_raw = load_parquet(RAW_PATH, use_cols=USE_COLS)\n",
    "df_clean = preprocess(df_raw)\n",
    "print(\"Shape clean:\", df_clean.shape)\n",
    "df_clean.head()"
   ]
  },
  {
   "cell_type": "markdown",
   "id": "cc4aae61",
   "metadata": {},
   "source": [
    "## Cellule D — Visualisations EDA essentielles"
   ]
  },
  {
   "cell_type": "code",
   "execution_count": null,
   "id": "cab3a8ce",
   "metadata": {},
   "outputs": [],
   "source": [
    "plt.figure(figsize=(6,4)); sns.histplot(df_clean[\"trip_duration_minutes\"], bins=60); plt.title(\"Distance (min)\"); plt.show()\n",
    "plt.figure(figsize=(6,4)); sns.histplot(df_clean[\"trip_distance\"], bins=60); plt.title(\"Distance (miles)\"); plt.show()\n",
    "plt.figure(figsize=(6,4)); sns.histplot(df_clean[\"total_amount\"], bins=60); plt.title(\"Total ($)\"); plt.show()\n",
    "\n",
    "sample = df_clean.sample(min(50000, len(df_clean)), random_state=42)\n",
    "plt.figure(figsize=(6,6))\n",
    "sns.scatterplot(data=sample, x=\"trip_distance\", y=\"trip_duration_minutes\", s=5, alpha=0.3)\n",
    "plt.title(\"Distance vs Durée\")\n",
    "plt.show()"
   ]
  },
  {
   "cell_type": "markdown",
   "id": "7803d1c0",
   "metadata": {},
   "source": [
    "## Cellule E — Sauvegarde échantillon propre (200k lignes)"
   ]
  },
  {
   "cell_type": "code",
   "execution_count": null,
   "id": "4b67920a",
   "metadata": {},
   "outputs": [],
   "source": [
    "N = 200_000 if len(df_clean) >=200_000 else len(df_clean)\n",
    "ref = df_clean.sample(N, random_state=42).copy()\n",
    "OUT_PATH = f\"{PROC_DIR}/taxi_ref_2023-01_clean_sample.parquet\"\n",
    "ref.to_parquet(OUT_PATH, index=False)\n",
    "OUT_PATH, ref.shape"
   ]
  },
  {
   "cell_type": "markdown",
   "id": "963528fa",
   "metadata": {},
   "source": [
    "## Cellule F — Log minimal dans MLflow"
   ]
  },
  {
   "cell_type": "code",
   "execution_count": null,
   "id": "91139f47",
   "metadata": {},
   "outputs": [],
   "source": [
    "import mlflow\n",
    "mlflow.set_tracking_uri(\"file:../mlruns\")\n",
    "mlflow.set_experiment(\"eda-preprocessing\")\n",
    "with mlflow.start_run(run_name=\"cleaning_2023_01\"):\n",
    "    mlflow.log_param(\"dataset_month\", \"2023-01\")\n",
    "    mlflow.log_param(\"n_samples\", len(df_clean))\n",
    "    mlflow.log_artifact(OUT_PATH)\n",
    "    mlflow.log_artifact(\"../src/preprocessing.py\")\n"
   ]
  },
  {
   "cell_type": "code",
   "execution_count": null,
   "id": "efbb2b88",
   "metadata": {},
   "outputs": [],
   "source": []
  }
 ],
 "metadata": {
  "kernelspec": {
   "display_name": "venv_gpu (3.10.12)",
   "language": "python",
   "name": "python3"
  },
  "language_info": {
   "codemirror_mode": {
    "name": "ipython",
    "version": 3
   },
   "file_extension": ".py",
   "mimetype": "text/x-python",
   "name": "python",
   "nbconvert_exporter": "python",
   "pygments_lexer": "ipython3",
   "version": "3.10.12"
  }
 },
 "nbformat": 4,
 "nbformat_minor": 5
}
