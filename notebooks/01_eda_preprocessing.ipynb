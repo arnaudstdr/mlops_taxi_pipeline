{
 "cells": [
  {
   "cell_type": "markdown",
   "id": "c63ca54f",
   "metadata": {},
   "source": [
    "## Import & constantes"
   ]
  },
  {
   "cell_type": "code",
   "execution_count": 1,
   "id": "ad97e0ca-e823-4645-b623-979440844f78",
   "metadata": {},
   "outputs": [],
   "source": [
    "import os\n",
    "import pandas as pd\n",
    "import matplotlib.pyplot as plt\n",
    "import seaborn as sns\n",
    "from datetime import datetime\n",
    "\n",
    "# Affichage\n",
    "pd.set_option('display.max_columns', None)\n",
    "pd.set_option('display.float_format', lambda x: '%.2f')\n",
    "\n",
    "# Dossier\n",
    "RAW_DIR = \"../data/raw\"\n",
    "PROC_DIR = \"../data/processed\"\n",
    "os.makedirs(RAW_DIR, exist_ok=True)\n",
    "os.makedirs(PROC_DIR, exist_ok=True)\n",
    "\n",
    "# Paramètres dataset (mois de référence pour l'EDA)\n",
    "DS_MONTH = \"2023-01\"\n",
    "URL = f\"https://d37ci6vzurychx.cloudfront.net/trip-data/yellow_tripdata_{DS_MONTH}.parquet\"\n",
    "RAW_PATH = f\"{RAW_DIR}/yellow_tripdata_{DS_MONTH}.parquet\"\n",
    "\n",
    "# Colonnes utiles (disponible sur 2023+)\n",
    "USE_COLS = [\n",
    "    \"tpep_pickup_datetime\", \"tpep_dropoff_datetime\",\n",
    "    \"passenger_count\", \"trip_distance\",\n",
    "    \"PULocationID\", \"DOLocationID\",\n",
    "    \"RatecodeID\", \"payment_type\",\n",
    "    \"fare_amount\", \"extra\", \"mta_tax\", \n",
    "    \"tip_amount\", \"tolls_amount\", \"improvement_surcharge\",\n",
    "    \"total_amount\", \"congestion_surcharge\", \"airport_fee\"\n",
    "]"
   ]
  },
  {
   "cell_type": "markdown",
   "id": "a972d035",
   "metadata": {},
   "source": [
    "## Téléchargement sécurisé (idempotent)"
   ]
  },
  {
   "cell_type": "code",
   "execution_count": null,
   "id": "6a13ad9f",
   "metadata": {},
   "outputs": [],
   "source": [
    "import urllib.request\n",
    "\n",
    "if not os.path.exists(RAW_PATH):\n",
    "    print(\"Téléchargement du dataset...\")\n",
    "    urllib.request.urlretrieve(URL, RAW_PATH)\n",
    "else:\n",
    "    print(\"Déjà présent :\", RAW_PATH)"
   ]
  },
  {
   "cell_type": "markdown",
   "id": "6b9831cb",
   "metadata": {},
   "source": [
    "## Chargment mémoire-friendly"
   ]
  },
  {
   "cell_type": "code",
   "execution_count": null,
   "id": "92d0f4a7",
   "metadata": {},
   "outputs": [],
   "source": [
    "# Lecture partielle des colonnes pour réduire la RAM\n",
    "df = pd.read_parquet(RAW_PATH, columns=USE_COLS)\n",
    "df.shape, df.head(3)"
   ]
  },
  {
   "cell_type": "markdown",
   "id": "7a3e1f76",
   "metadata": {},
   "source": [
    "## Typage & valeurs manquantes"
   ]
  },
  {
   "cell_type": "code",
   "execution_count": null,
   "id": "adb3c140",
   "metadata": {},
   "outputs": [],
   "source": [
    "df.info()\n",
    "df.isna().mean().sort_values(ascending=False).head(10)\n",
    "df.describe(include='all').T.head(20)"
   ]
  },
  {
   "cell_type": "markdown",
   "id": "5b3c5bc0",
   "metadata": {},
   "source": [
    "## Cibles & features manquantes\n",
    "On vise une régression **trip_duration_minutes**. \n",
    "**Hypothèse métier** (assumée et documentée):\n",
    "`trip_distance` au moment de la prédiction provient d'un service de routage (proxy de la distance prévue). On ne l'a pas \"vraiment\" au pickup dans ce dataset, donc on **documente** l'approximation pour éviter la **data leakage confusion**. "
   ]
  },
  {
   "cell_type": "code",
   "execution_count": 6,
   "id": "8e6bc5ad",
   "metadata": {},
   "outputs": [],
   "source": [
    "df[\"pickup_dt\"] = pd.to_datetime(df[\"tpep_pickup_datetime\"])\n",
    "df[\"dropoff_dt\"] = pd.to_datetime(df[\"tpep_dropoff_datetime\"])\n",
    "df[\"trip_duration_minutes\"] = (df[\"dropoff_dt\"] - df[\"pickup_dt\"]).dt.total_seconds() / 60\n",
    "\n",
    "# Features temporelles (utilisables au pickup)\n",
    "df[\"pickup_hour\"] = df[\"pickup_dt\"].dt.hour\n",
    "df[\"pickup_dow\"] = df[\"pickup_dt\"].dt.dayofweek  # 0=lundi\n",
    "df[\"is_weekend\"] = df[\"pickup_dow\"].isin([5, 6]).astype(int)"
   ]
  },
  {
   "cell_type": "markdown",
   "id": "ece11e98",
   "metadata": {},
   "source": [
    "## Règles d'hygiène (filtre simples)\n",
    "Se débarasser des valeurs absurdes pour éviter d'entraîner un modèle sur du bruit. "
   ]
  },
  {
   "cell_type": "code",
   "execution_count": null,
   "id": "f90fa4ef",
   "metadata": {},
   "outputs": [],
   "source": [
    "# Bornes (conservatrices) pour éviter les outliers manifestes\n",
    "mask = (\n",
    "    (df[\"trip_duration_minutes\"].between(1, 180, inclusive=\"both\")) &\n",
    "    (df[\"trip_distance\"].between(0.1, 100, inclusive=\"both\")) &\n",
    "    (df[\"fare_amount\"].between(0, 300, inclusive=\"both\")) &\n",
    "    (df[\"passenger_count\"].fillna(1).between(1, 6, inclusive=\"both\"))\n",
    ")\n",
    "clean = df[mask].copy()\n",
    "clean.shape"
   ]
  },
  {
   "cell_type": "markdown",
   "id": "8ce8450d",
   "metadata": {},
   "source": [
    "**Pièges**\n",
    "- Trop filtrer -> perdre la représentativité et biaiser la dérive. \n",
    "- Peu filtrer -> métriques gonflées artificiellement.\n",
    "On ajuste plus finement après quelques visualisations. "
   ]
  },
  {
   "cell_type": "markdown",
   "id": "493b5522",
   "metadata": {},
   "source": [
    "## Visuals EDA (rapides et utiles)"
   ]
  },
  {
   "cell_type": "markdown",
   "id": "f440d1e1",
   "metadata": {},
   "source": [
    "### Distributions clés"
   ]
  },
  {
   "cell_type": "code",
   "execution_count": null,
   "id": "ef522c34",
   "metadata": {},
   "outputs": [],
   "source": [
    "plt.figure(figsize=(6,4)); sns.histplot(clean[\"trip_duration_minutes\"], bins=60); plt.title(\"Durée (min)\"); plt.show()\n",
    "plt.figure(figsize=(6,4)); sns.histplot(clean[\"trip_distance\"], bins=60); plt.title(\"Distance (miles)\"); plt.show()\n",
    "plt.figure(figsize=(6,4)); sns.histplot(clean[\"total_amount\"], bins=60); plt.title(\"Total ($)\"); plt.show()"
   ]
  },
  {
   "cell_type": "markdown",
   "id": "6af2e765",
   "metadata": {},
   "source": [
    "### Relation distance <-> durée "
   ]
  },
  {
   "cell_type": "code",
   "execution_count": null,
   "id": "23eb709a",
   "metadata": {},
   "outputs": [],
   "source": [
    "sample = clean.sample(min(50000, len(clean)), random_state=42)\n",
    "plt.figure(figsize=(6,6))\n",
    "sns.scatterplot(data=sample, x=\"trip_distance\", y=\"trip_duration_minutes\", s=5, alpha=0.3)\n",
    "plt.title(\"Distance vs Durée\")\n",
    "plt.show()"
   ]
  },
  {
   "cell_type": "markdown",
   "id": "5f165702",
   "metadata": {},
   "source": [
    "### Effet heure & jour"
   ]
  },
  {
   "cell_type": "code",
   "execution_count": null,
   "id": "2c9e3a1e",
   "metadata": {},
   "outputs": [],
   "source": [
    "fig, ax = plt.subplots(figsize=(7,4))\n",
    "clean.groupby(\"pickup_hour\")[\"trip_duration_minutes\"].mean().plot(ax=ax)\n",
    "ax.set_title(\"Durée moyenne par heure de pickup\"); ax.set_xlabel(\"Heure\"); ax.set_ylabel(\"Durée (min)\")\n",
    "plt.show()\n",
    "\n",
    "fig, ax = plt.subplots(figsize=(7,4))\n",
    "clean.groupby(\"pickup_dow\")[\"trip_duration_minutes\"].mean().plot(ax=ax)\n",
    "ax.set_title(\"Durée moyenne par jour (0=lun)\"); ax.set_xlabel(\"Jour\"); ax.set_ylabel(\"Durée (min)\")\n",
    "plt.show()"
   ]
  },
  {
   "cell_type": "markdown",
   "id": "c1f2eccb",
   "metadata": {},
   "source": [
    "**Bonnes pratiques**\n",
    "- Garde ces graphiques \"référence\" pour la dérive temporelle (baselin = ce mois). \n",
    "- On figera un **profil de référence** (Evidently) à partir d'une **fenêtre d'entraînement**. "
   ]
  },
  {
   "cell_type": "markdown",
   "id": "d76d382b",
   "metadata": {},
   "source": [
    "## Échantillon \"référence\" sauvegardé\n",
    "On sauve un **échantillon propre** qu'on versionnera (petit) -> reproductible."
   ]
  },
  {
   "cell_type": "code",
   "execution_count": null,
   "id": "c6be8ba5",
   "metadata": {},
   "outputs": [],
   "source": [
    "N = 200_000 if len(clean) >= 200_000 else len(clean)\n",
    "ref = clean.sample(N, random_state=42)\n",
    "\n",
    "FEATS_KEEP = [\n",
    "    # target\n",
    "    \"trip_duration_minutes\",\n",
    "    #cfeatures utilisables en ligne (cf. hypothèse distance)\n",
    "    \"trip_distance\", \"passenger_count\",\n",
    "    \"PULocationID\", \"DOLocationID\",\n",
    "    \"pickup_hour\", \"pickup_dow\", \"is_weekend\",\n",
    "    \"RatecodeID\", \"payment_type\",\n",
    "    # coûts (pour analyse/monitoring, pas nécessairement en features finales)\n",
    "    \"fare_amount\", \"tip_amount\", \"tolls_amount\", \"total_amount\"\n",
    "]\n",
    "ref = ref[FEATS_KEEP].copy()\n",
    "\n",
    "OUT_PATH = f\"{PROC_DIR}/taxi_ref_{DS_MONTH}_clean_sample.parquet\"\n",
    "ref.to_parquet(OUT_PATH, index=False)\n",
    "OUT_PATH, ref.shape, ref.head(3)"
   ]
  },
  {
   "cell_type": "markdown",
   "id": "30a2e7cc",
   "metadata": {},
   "source": [
    "**À retenir**\n",
    "- **data/raw/* non versionné, data/processed/*** oui (samples petits). \n",
    "- On documente clairement **l'hypothèse \"distance prévue\"** pour éviter tout procès en fuite. "
   ]
  }
 ],
 "metadata": {
  "kernelspec": {
   "display_name": "venv_gpu (3.10.12)",
   "language": "python",
   "name": "python3"
  },
  "language_info": {
   "codemirror_mode": {
    "name": "ipython",
    "version": 3
   },
   "file_extension": ".py",
   "mimetype": "text/x-python",
   "name": "python",
   "nbconvert_exporter": "python",
   "pygments_lexer": "ipython3",
   "version": "3.10.12"
  }
 },
 "nbformat": 4,
 "nbformat_minor": 5
}
